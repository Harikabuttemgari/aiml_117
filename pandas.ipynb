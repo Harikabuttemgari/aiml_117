{
 "cells": [
  {
   "cell_type": "markdown",
   "id": "0525ebd3-b9fd-4359-a031-28213c85d0c1",
   "metadata": {},
   "source": [
    "#pandas support series and dataframe\n",
    "supports indexing and slicing\n",
    "series is one dimensional object\n",
    "dataframe is two dimensional object"
   ]
  },
  {
   "cell_type": "code",
   "execution_count": 1,
   "id": "230f4f37-5ce0-4a4c-a80b-da44cd6687d0",
   "metadata": {},
   "outputs": [],
   "source": [
    "#Import pandas\n",
    "import pandas as pd\n",
    "import numpy as np"
   ]
  },
  {
   "cell_type": "code",
   "execution_count": 3,
   "id": "59d6aa5d-98e7-4a38-ba14-59a6c05a3afd",
   "metadata": {},
   "outputs": [
    {
     "name": "stdout",
     "output_type": "stream",
     "text": [
      "0    10\n",
      "1    20\n",
      "2    30\n",
      "3    40\n",
      "dtype: int64\n"
     ]
    }
   ],
   "source": [
    "#Create pandas series using list\n",
    "data=[10,20,30,40]\n",
    "series=pd.Series(data)\n",
    "print(series)"
   ]
  },
  {
   "cell_type": "code",
   "execution_count": 18,
   "id": "d59ff81a-01d2-479f-b7ba-b32d05198f05",
   "metadata": {},
   "outputs": [
    {
     "name": "stdout",
     "output_type": "stream",
     "text": [
      "0    10\n",
      "1    20\n",
      "2     H\n",
      "3    40\n",
      "dtype: object\n",
      "object\n"
     ]
    }
   ],
   "source": [
    "data=[10,20,\"H\",40]\n",
    "series=pd.Series(data)\n",
    "print(series)\n",
    "print(series.dtype)"
   ]
  },
  {
   "cell_type": "code",
   "execution_count": 7,
   "id": "e7007d08-6a28-45ac-a89f-782cd2b3ca68",
   "metadata": {},
   "outputs": [
    {
     "name": "stdout",
     "output_type": "stream",
     "text": [
      "A    1\n",
      "B    2\n",
      "C    3\n",
      "D    4\n",
      "dtype: object\n"
     ]
    }
   ],
   "source": [
    "#Create a series using a custom series\n",
    "data = ['1', '2', '3', '4']\n",
    "i = ['A', 'B','C', 'D']\n",
    "series = pd.Series(data, index=i)\n",
    "print(series)"
   ]
  },
  {
   "cell_type": "code",
   "execution_count": 9,
   "id": "857279b7-a136-4996-b524-5217a292f85a",
   "metadata": {},
   "outputs": [
    {
     "name": "stdout",
     "output_type": "stream",
     "text": [
      "a    10\n",
      "b    20\n",
      "c    30\n",
      "dtype: int64\n"
     ]
    }
   ],
   "source": [
    "#Create pandas series using dictionary \n",
    "data = {'a': 10, 'b':20, 'c': 30}\n",
    "series = pd.Series(data)\n",
    "print(series)"
   ]
  },
  {
   "cell_type": "code",
   "execution_count": 11,
   "id": "8790c859-363c-480a-bb33-aa2d3c5c80a5",
   "metadata": {},
   "outputs": [
    {
     "data": {
      "text/plain": [
       "a     10\n",
       "b    100\n",
       "c     30\n",
       "dtype: int64"
      ]
     },
     "execution_count": 11,
     "metadata": {},
     "output_type": "execute_result"
    }
   ],
   "source": [
    "series.replace(20,100)"
   ]
  },
  {
   "cell_type": "code",
   "execution_count": 13,
   "id": "69d7eacd-ef1d-4401-8daa-fc7c76eb1a9f",
   "metadata": {},
   "outputs": [
    {
     "name": "stdout",
     "output_type": "stream",
     "text": [
      "a    100\n",
      "b    200\n",
      "c    300\n",
      "dtype: int32\n"
     ]
    }
   ],
   "source": [
    "#Create series using numpy array\n",
    "import numpy as np\n",
    "\n",
    "data = np.array([100, 200, 300])\n",
    "series = pd.Series(data, index=['a','b','c'])\n",
    "print(series)"
   ]
  },
  {
   "cell_type": "markdown",
   "id": "2d5f77b4-1467-412a-bbe0-e09c43c2b1e8",
   "metadata": {},
   "source": [
    "##pandas dataframe"
   ]
  },
  {
   "cell_type": "code",
   "execution_count": 16,
   "id": "cdabd4c7-3303-4bd1-b7e3-1f76d5c0befa",
   "metadata": {},
   "outputs": [
    {
     "name": "stdout",
     "output_type": "stream",
     "text": [
      "    Name  Age Country\n",
      "0  Alice   25     USA\n",
      "1    Bob   30      UK\n",
      "2  Marry   34     AUS\n"
     ]
    }
   ],
   "source": [
    "# Create pandas dataframe from dictionary of Lists\n",
    "import pandas as pd\n",
    "data = {'Name': ['Alice', 'Bob','Marry'],'Age': [25,30,34],'Country':[\"USA\",\"UK\",\"AUS\"]}\n",
    "df = pd.DataFrame(data)\n",
    "print(df)"
   ]
  },
  {
   "cell_type": "code",
   "execution_count": 60,
   "id": "667623f6-5dc2-4c81-b55e-81d38a717072",
   "metadata": {},
   "outputs": [
    {
     "name": "stdout",
     "output_type": "stream",
     "text": [
      "[[1 2 3]\n",
      " [4 5 6]\n",
      " [7 8 9]]\n"
     ]
    }
   ],
   "source": [
    "##Create pandas dataframe from numpy array\n",
    "import numpy as np\n",
    "\n",
    "array = np.array([[1,2,3], [4,5,6],[7,8,9]])\n",
    "print(array)\n",
    "df = pd.DataFrame(array,columns = ['A', 'B','C'])"
   ]
  },
  {
   "cell_type": "code",
   "execution_count": 44,
   "id": "8bd3f519-1979-41cd-a052-7db2f322f24e",
   "metadata": {},
   "outputs": [
    {
     "name": "stdout",
     "output_type": "stream",
     "text": [
      "      Attendence  CGPA\n",
      "sem1          48   5.0\n",
      "sem2          56  87.0\n",
      "sem3          98   9.0\n",
      "sem4          98   3.4\n"
     ]
    }
   ],
   "source": [
    "data=[[48,5.0],[56,87],[98,9.0],[98,3.4]]\n",
    "i=[\"sem1\",\"sem2\",\"sem3\",\"sem4\"]\n",
    "df=pd.DataFrame(data,index=i,columns=[\"Attendence\",\"CGPA\"])\n",
    "print(df)"
   ]
  },
  {
   "cell_type": "code",
   "execution_count": 62,
   "id": "ddc4a5f9-74c1-4e85-bb96-d8173befc434",
   "metadata": {},
   "outputs": [
    {
     "name": "stdout",
     "output_type": "stream",
     "text": [
      "[[1, 'Alice', 25], [2, 'Bob', 30], [3, 'Marry', 34]]\n",
      "   ID   Name  Age\n",
      "0   1  Alice   25\n",
      "1   2    Bob   30\n",
      "2   3  Marry   34\n"
     ]
    }
   ],
   "source": [
    "##create a dataframe from a nested list\n",
    "data = [[1, 'Alice', 25], [2, 'Bob',30], [3,'Marry',34]]\n",
    "print(data)\n",
    "df = pd.DataFrame(data, columns=['ID', 'Name', 'Age'])\n",
    "print(df)"
   ]
  },
  {
   "cell_type": "code",
   "execution_count": 36,
   "id": "844a3d02-0fa2-453a-be5c-515b7355a39b",
   "metadata": {},
   "outputs": [
    {
     "name": "stdout",
     "output_type": "stream",
     "text": [
      "     sepal.length  sepal.width  petal.length  petal.width    variety\n",
      "0             5.1          3.5           1.4          0.2     Setosa\n",
      "1             4.9          3.0           1.4          0.2     Setosa\n",
      "2             4.7          3.2           1.3          0.2     Setosa\n",
      "3             4.6          3.1           1.5          0.2     Setosa\n",
      "4             5.0          3.6           1.4          0.2     Setosa\n",
      "..            ...          ...           ...          ...        ...\n",
      "145           6.7          3.0           5.2          2.3  Virginica\n",
      "146           6.3          2.5           5.0          1.9  Virginica\n",
      "147           6.5          3.0           5.2          2.0  Virginica\n",
      "148           6.2          3.4           5.4          2.3  Virginica\n",
      "149           5.9          3.0           5.1          1.8  Virginica\n",
      "\n",
      "[150 rows x 5 columns]\n"
     ]
    }
   ],
   "source": [
    "# Import data from a csv file and create\n",
    "iris_df = pd.read_csv(\"iris.csv\")\n",
    "print(iris_df)"
   ]
  },
  {
   "cell_type": "markdown",
   "id": "2fca8f0a-cb3c-406d-b0c5-74adc00a8d8f",
   "metadata": {},
   "source": [
    "##Data exploration on iris dataset"
   ]
  },
  {
   "cell_type": "code",
   "execution_count": 47,
   "id": "e06bb80d-94a9-4578-804c-4d4e409f67e0",
   "metadata": {},
   "outputs": [
    {
     "name": "stdout",
     "output_type": "stream",
     "text": [
      "<class 'pandas.core.frame.DataFrame'>\n",
      "RangeIndex: 150 entries, 0 to 149\n",
      "Data columns (total 5 columns):\n",
      " #   Column        Non-Null Count  Dtype  \n",
      "---  ------        --------------  -----  \n",
      " 0   sepal.length  150 non-null    float64\n",
      " 1   sepal.width   150 non-null    float64\n",
      " 2   petal.length  150 non-null    float64\n",
      " 3   petal.width   150 non-null    float64\n",
      " 4   variety       150 non-null    object \n",
      "dtypes: float64(4), object(1)\n",
      "memory usage: 6.0+ KB\n"
     ]
    }
   ],
   "source": [
    "iris_df.info()"
   ]
  },
  {
   "cell_type": "code",
   "execution_count": 49,
   "id": "58cbeb9b-a1c5-4292-8d39-66bb62470e46",
   "metadata": {},
   "outputs": [
    {
     "data": {
      "text/html": [
       "<div>\n",
       "<style scoped>\n",
       "    .dataframe tbody tr th:only-of-type {\n",
       "        vertical-align: middle;\n",
       "    }\n",
       "\n",
       "    .dataframe tbody tr th {\n",
       "        vertical-align: top;\n",
       "    }\n",
       "\n",
       "    .dataframe thead th {\n",
       "        text-align: right;\n",
       "    }\n",
       "</style>\n",
       "<table border=\"1\" class=\"dataframe\">\n",
       "  <thead>\n",
       "    <tr style=\"text-align: right;\">\n",
       "      <th></th>\n",
       "      <th>sepal.length</th>\n",
       "      <th>sepal.width</th>\n",
       "      <th>petal.length</th>\n",
       "      <th>petal.width</th>\n",
       "      <th>variety</th>\n",
       "    </tr>\n",
       "  </thead>\n",
       "  <tbody>\n",
       "    <tr>\n",
       "      <th>0</th>\n",
       "      <td>5.1</td>\n",
       "      <td>3.5</td>\n",
       "      <td>1.4</td>\n",
       "      <td>0.2</td>\n",
       "      <td>Setosa</td>\n",
       "    </tr>\n",
       "    <tr>\n",
       "      <th>1</th>\n",
       "      <td>4.9</td>\n",
       "      <td>3.0</td>\n",
       "      <td>1.4</td>\n",
       "      <td>0.2</td>\n",
       "      <td>Setosa</td>\n",
       "    </tr>\n",
       "    <tr>\n",
       "      <th>2</th>\n",
       "      <td>4.7</td>\n",
       "      <td>3.2</td>\n",
       "      <td>1.3</td>\n",
       "      <td>0.2</td>\n",
       "      <td>Setosa</td>\n",
       "    </tr>\n",
       "    <tr>\n",
       "      <th>3</th>\n",
       "      <td>4.6</td>\n",
       "      <td>3.1</td>\n",
       "      <td>1.5</td>\n",
       "      <td>0.2</td>\n",
       "      <td>Setosa</td>\n",
       "    </tr>\n",
       "    <tr>\n",
       "      <th>4</th>\n",
       "      <td>5.0</td>\n",
       "      <td>3.6</td>\n",
       "      <td>1.4</td>\n",
       "      <td>0.2</td>\n",
       "      <td>Setosa</td>\n",
       "    </tr>\n",
       "  </tbody>\n",
       "</table>\n",
       "</div>"
      ],
      "text/plain": [
       "   sepal.length  sepal.width  petal.length  petal.width variety\n",
       "0           5.1          3.5           1.4          0.2  Setosa\n",
       "1           4.9          3.0           1.4          0.2  Setosa\n",
       "2           4.7          3.2           1.3          0.2  Setosa\n",
       "3           4.6          3.1           1.5          0.2  Setosa\n",
       "4           5.0          3.6           1.4          0.2  Setosa"
      ]
     },
     "execution_count": 49,
     "metadata": {},
     "output_type": "execute_result"
    }
   ],
   "source": [
    "iris_df.head()"
   ]
  },
  {
   "cell_type": "code",
   "execution_count": 51,
   "id": "ee92d215-3983-4487-bfd9-764e945107ef",
   "metadata": {},
   "outputs": [
    {
     "data": {
      "text/html": [
       "<div>\n",
       "<style scoped>\n",
       "    .dataframe tbody tr th:only-of-type {\n",
       "        vertical-align: middle;\n",
       "    }\n",
       "\n",
       "    .dataframe tbody tr th {\n",
       "        vertical-align: top;\n",
       "    }\n",
       "\n",
       "    .dataframe thead th {\n",
       "        text-align: right;\n",
       "    }\n",
       "</style>\n",
       "<table border=\"1\" class=\"dataframe\">\n",
       "  <thead>\n",
       "    <tr style=\"text-align: right;\">\n",
       "      <th></th>\n",
       "      <th>sepal.length</th>\n",
       "      <th>sepal.width</th>\n",
       "      <th>petal.length</th>\n",
       "      <th>petal.width</th>\n",
       "      <th>variety</th>\n",
       "    </tr>\n",
       "  </thead>\n",
       "  <tbody>\n",
       "    <tr>\n",
       "      <th>0</th>\n",
       "      <td>5.1</td>\n",
       "      <td>3.5</td>\n",
       "      <td>1.4</td>\n",
       "      <td>0.2</td>\n",
       "      <td>Setosa</td>\n",
       "    </tr>\n",
       "    <tr>\n",
       "      <th>1</th>\n",
       "      <td>4.9</td>\n",
       "      <td>3.0</td>\n",
       "      <td>1.4</td>\n",
       "      <td>0.2</td>\n",
       "      <td>Setosa</td>\n",
       "    </tr>\n",
       "    <tr>\n",
       "      <th>2</th>\n",
       "      <td>4.7</td>\n",
       "      <td>3.2</td>\n",
       "      <td>1.3</td>\n",
       "      <td>0.2</td>\n",
       "      <td>Setosa</td>\n",
       "    </tr>\n",
       "    <tr>\n",
       "      <th>3</th>\n",
       "      <td>4.6</td>\n",
       "      <td>3.1</td>\n",
       "      <td>1.5</td>\n",
       "      <td>0.2</td>\n",
       "      <td>Setosa</td>\n",
       "    </tr>\n",
       "    <tr>\n",
       "      <th>4</th>\n",
       "      <td>5.0</td>\n",
       "      <td>3.6</td>\n",
       "      <td>1.4</td>\n",
       "      <td>0.2</td>\n",
       "      <td>Setosa</td>\n",
       "    </tr>\n",
       "    <tr>\n",
       "      <th>5</th>\n",
       "      <td>5.4</td>\n",
       "      <td>3.9</td>\n",
       "      <td>1.7</td>\n",
       "      <td>0.4</td>\n",
       "      <td>Setosa</td>\n",
       "    </tr>\n",
       "    <tr>\n",
       "      <th>6</th>\n",
       "      <td>4.6</td>\n",
       "      <td>3.4</td>\n",
       "      <td>1.4</td>\n",
       "      <td>0.3</td>\n",
       "      <td>Setosa</td>\n",
       "    </tr>\n",
       "    <tr>\n",
       "      <th>7</th>\n",
       "      <td>5.0</td>\n",
       "      <td>3.4</td>\n",
       "      <td>1.5</td>\n",
       "      <td>0.2</td>\n",
       "      <td>Setosa</td>\n",
       "    </tr>\n",
       "    <tr>\n",
       "      <th>8</th>\n",
       "      <td>4.4</td>\n",
       "      <td>2.9</td>\n",
       "      <td>1.4</td>\n",
       "      <td>0.2</td>\n",
       "      <td>Setosa</td>\n",
       "    </tr>\n",
       "    <tr>\n",
       "      <th>9</th>\n",
       "      <td>4.9</td>\n",
       "      <td>3.1</td>\n",
       "      <td>1.5</td>\n",
       "      <td>0.1</td>\n",
       "      <td>Setosa</td>\n",
       "    </tr>\n",
       "  </tbody>\n",
       "</table>\n",
       "</div>"
      ],
      "text/plain": [
       "   sepal.length  sepal.width  petal.length  petal.width variety\n",
       "0           5.1          3.5           1.4          0.2  Setosa\n",
       "1           4.9          3.0           1.4          0.2  Setosa\n",
       "2           4.7          3.2           1.3          0.2  Setosa\n",
       "3           4.6          3.1           1.5          0.2  Setosa\n",
       "4           5.0          3.6           1.4          0.2  Setosa\n",
       "5           5.4          3.9           1.7          0.4  Setosa\n",
       "6           4.6          3.4           1.4          0.3  Setosa\n",
       "7           5.0          3.4           1.5          0.2  Setosa\n",
       "8           4.4          2.9           1.4          0.2  Setosa\n",
       "9           4.9          3.1           1.5          0.1  Setosa"
      ]
     },
     "execution_count": 51,
     "metadata": {},
     "output_type": "execute_result"
    }
   ],
   "source": [
    "iris_df.head(10)"
   ]
  },
  {
   "cell_type": "code",
   "execution_count": 59,
   "id": "60d59753-bc8f-46d3-9ccf-d6852fdaa323",
   "metadata": {},
   "outputs": [
    {
     "data": {
      "text/html": [
       "<div>\n",
       "<style scoped>\n",
       "    .dataframe tbody tr th:only-of-type {\n",
       "        vertical-align: middle;\n",
       "    }\n",
       "\n",
       "    .dataframe tbody tr th {\n",
       "        vertical-align: top;\n",
       "    }\n",
       "\n",
       "    .dataframe thead th {\n",
       "        text-align: right;\n",
       "    }\n",
       "</style>\n",
       "<table border=\"1\" class=\"dataframe\">\n",
       "  <thead>\n",
       "    <tr style=\"text-align: right;\">\n",
       "      <th></th>\n",
       "      <th>sepal.length</th>\n",
       "      <th>sepal.width</th>\n",
       "      <th>petal.length</th>\n",
       "      <th>petal.width</th>\n",
       "    </tr>\n",
       "  </thead>\n",
       "  <tbody>\n",
       "    <tr>\n",
       "      <th>count</th>\n",
       "      <td>150.000000</td>\n",
       "      <td>150.000000</td>\n",
       "      <td>150.000000</td>\n",
       "      <td>150.000000</td>\n",
       "    </tr>\n",
       "    <tr>\n",
       "      <th>mean</th>\n",
       "      <td>5.843333</td>\n",
       "      <td>3.057333</td>\n",
       "      <td>3.758000</td>\n",
       "      <td>1.199333</td>\n",
       "    </tr>\n",
       "    <tr>\n",
       "      <th>std</th>\n",
       "      <td>0.828066</td>\n",
       "      <td>0.435866</td>\n",
       "      <td>1.765298</td>\n",
       "      <td>0.762238</td>\n",
       "    </tr>\n",
       "    <tr>\n",
       "      <th>min</th>\n",
       "      <td>4.300000</td>\n",
       "      <td>2.000000</td>\n",
       "      <td>1.000000</td>\n",
       "      <td>0.100000</td>\n",
       "    </tr>\n",
       "    <tr>\n",
       "      <th>25%</th>\n",
       "      <td>5.100000</td>\n",
       "      <td>2.800000</td>\n",
       "      <td>1.600000</td>\n",
       "      <td>0.300000</td>\n",
       "    </tr>\n",
       "    <tr>\n",
       "      <th>50%</th>\n",
       "      <td>5.800000</td>\n",
       "      <td>3.000000</td>\n",
       "      <td>4.350000</td>\n",
       "      <td>1.300000</td>\n",
       "    </tr>\n",
       "    <tr>\n",
       "      <th>75%</th>\n",
       "      <td>6.400000</td>\n",
       "      <td>3.300000</td>\n",
       "      <td>5.100000</td>\n",
       "      <td>1.800000</td>\n",
       "    </tr>\n",
       "    <tr>\n",
       "      <th>max</th>\n",
       "      <td>7.900000</td>\n",
       "      <td>4.400000</td>\n",
       "      <td>6.900000</td>\n",
       "      <td>2.500000</td>\n",
       "    </tr>\n",
       "  </tbody>\n",
       "</table>\n",
       "</div>"
      ],
      "text/plain": [
       "       sepal.length  sepal.width  petal.length  petal.width\n",
       "count    150.000000   150.000000    150.000000   150.000000\n",
       "mean       5.843333     3.057333      3.758000     1.199333\n",
       "std        0.828066     0.435866      1.765298     0.762238\n",
       "min        4.300000     2.000000      1.000000     0.100000\n",
       "25%        5.100000     2.800000      1.600000     0.300000\n",
       "50%        5.800000     3.000000      4.350000     1.300000\n",
       "75%        6.400000     3.300000      5.100000     1.800000\n",
       "max        7.900000     4.400000      6.900000     2.500000"
      ]
     },
     "execution_count": 59,
     "metadata": {},
     "output_type": "execute_result"
    }
   ],
   "source": [
    "iris_df.describe()"
   ]
  },
  {
   "cell_type": "code",
   "execution_count": 62,
   "id": "0d8065f9-625a-4392-94b1-1e163130a0ae",
   "metadata": {},
   "outputs": [
    {
     "name": "stdout",
     "output_type": "stream",
     "text": [
      "(150, 5)\n",
      "2\n",
      "750\n"
     ]
    }
   ],
   "source": [
    "#Print the attributes of dataframe\n",
    "print(iris_df.shape)\n",
    "print(iris_df.ndim)\n",
    "print(iris_df.size)"
   ]
  },
  {
   "cell_type": "code",
   "execution_count": 64,
   "id": "e6456d06-b02f-4eee-973c-af299856aa17",
   "metadata": {},
   "outputs": [
    {
     "data": {
      "text/plain": [
       "array([[5.1, 3.5, 1.4, 0.2, 'Setosa'],\n",
       "       [4.9, 3.0, 1.4, 0.2, 'Setosa'],\n",
       "       [4.7, 3.2, 1.3, 0.2, 'Setosa'],\n",
       "       [4.6, 3.1, 1.5, 0.2, 'Setosa'],\n",
       "       [5.0, 3.6, 1.4, 0.2, 'Setosa'],\n",
       "       [5.4, 3.9, 1.7, 0.4, 'Setosa'],\n",
       "       [4.6, 3.4, 1.4, 0.3, 'Setosa'],\n",
       "       [5.0, 3.4, 1.5, 0.2, 'Setosa'],\n",
       "       [4.4, 2.9, 1.4, 0.2, 'Setosa'],\n",
       "       [4.9, 3.1, 1.5, 0.1, 'Setosa'],\n",
       "       [5.4, 3.7, 1.5, 0.2, 'Setosa'],\n",
       "       [4.8, 3.4, 1.6, 0.2, 'Setosa'],\n",
       "       [4.8, 3.0, 1.4, 0.1, 'Setosa'],\n",
       "       [4.3, 3.0, 1.1, 0.1, 'Setosa'],\n",
       "       [5.8, 4.0, 1.2, 0.2, 'Setosa'],\n",
       "       [5.7, 4.4, 1.5, 0.4, 'Setosa'],\n",
       "       [5.4, 3.9, 1.3, 0.4, 'Setosa'],\n",
       "       [5.1, 3.5, 1.4, 0.3, 'Setosa'],\n",
       "       [5.7, 3.8, 1.7, 0.3, 'Setosa'],\n",
       "       [5.1, 3.8, 1.5, 0.3, 'Setosa'],\n",
       "       [5.4, 3.4, 1.7, 0.2, 'Setosa'],\n",
       "       [5.1, 3.7, 1.5, 0.4, 'Setosa'],\n",
       "       [4.6, 3.6, 1.0, 0.2, 'Setosa'],\n",
       "       [5.1, 3.3, 1.7, 0.5, 'Setosa'],\n",
       "       [4.8, 3.4, 1.9, 0.2, 'Setosa'],\n",
       "       [5.0, 3.0, 1.6, 0.2, 'Setosa'],\n",
       "       [5.0, 3.4, 1.6, 0.4, 'Setosa'],\n",
       "       [5.2, 3.5, 1.5, 0.2, 'Setosa'],\n",
       "       [5.2, 3.4, 1.4, 0.2, 'Setosa'],\n",
       "       [4.7, 3.2, 1.6, 0.2, 'Setosa'],\n",
       "       [4.8, 3.1, 1.6, 0.2, 'Setosa'],\n",
       "       [5.4, 3.4, 1.5, 0.4, 'Setosa'],\n",
       "       [5.2, 4.1, 1.5, 0.1, 'Setosa'],\n",
       "       [5.5, 4.2, 1.4, 0.2, 'Setosa'],\n",
       "       [4.9, 3.1, 1.5, 0.2, 'Setosa'],\n",
       "       [5.0, 3.2, 1.2, 0.2, 'Setosa'],\n",
       "       [5.5, 3.5, 1.3, 0.2, 'Setosa'],\n",
       "       [4.9, 3.6, 1.4, 0.1, 'Setosa'],\n",
       "       [4.4, 3.0, 1.3, 0.2, 'Setosa'],\n",
       "       [5.1, 3.4, 1.5, 0.2, 'Setosa'],\n",
       "       [5.0, 3.5, 1.3, 0.3, 'Setosa'],\n",
       "       [4.5, 2.3, 1.3, 0.3, 'Setosa'],\n",
       "       [4.4, 3.2, 1.3, 0.2, 'Setosa'],\n",
       "       [5.0, 3.5, 1.6, 0.6, 'Setosa'],\n",
       "       [5.1, 3.8, 1.9, 0.4, 'Setosa'],\n",
       "       [4.8, 3.0, 1.4, 0.3, 'Setosa'],\n",
       "       [5.1, 3.8, 1.6, 0.2, 'Setosa'],\n",
       "       [4.6, 3.2, 1.4, 0.2, 'Setosa'],\n",
       "       [5.3, 3.7, 1.5, 0.2, 'Setosa'],\n",
       "       [5.0, 3.3, 1.4, 0.2, 'Setosa'],\n",
       "       [7.0, 3.2, 4.7, 1.4, 'Versicolor'],\n",
       "       [6.4, 3.2, 4.5, 1.5, 'Versicolor'],\n",
       "       [6.9, 3.1, 4.9, 1.5, 'Versicolor'],\n",
       "       [5.5, 2.3, 4.0, 1.3, 'Versicolor'],\n",
       "       [6.5, 2.8, 4.6, 1.5, 'Versicolor'],\n",
       "       [5.7, 2.8, 4.5, 1.3, 'Versicolor'],\n",
       "       [6.3, 3.3, 4.7, 1.6, 'Versicolor'],\n",
       "       [4.9, 2.4, 3.3, 1.0, 'Versicolor'],\n",
       "       [6.6, 2.9, 4.6, 1.3, 'Versicolor'],\n",
       "       [5.2, 2.7, 3.9, 1.4, 'Versicolor'],\n",
       "       [5.0, 2.0, 3.5, 1.0, 'Versicolor'],\n",
       "       [5.9, 3.0, 4.2, 1.5, 'Versicolor'],\n",
       "       [6.0, 2.2, 4.0, 1.0, 'Versicolor'],\n",
       "       [6.1, 2.9, 4.7, 1.4, 'Versicolor'],\n",
       "       [5.6, 2.9, 3.6, 1.3, 'Versicolor'],\n",
       "       [6.7, 3.1, 4.4, 1.4, 'Versicolor'],\n",
       "       [5.6, 3.0, 4.5, 1.5, 'Versicolor'],\n",
       "       [5.8, 2.7, 4.1, 1.0, 'Versicolor'],\n",
       "       [6.2, 2.2, 4.5, 1.5, 'Versicolor'],\n",
       "       [5.6, 2.5, 3.9, 1.1, 'Versicolor'],\n",
       "       [5.9, 3.2, 4.8, 1.8, 'Versicolor'],\n",
       "       [6.1, 2.8, 4.0, 1.3, 'Versicolor'],\n",
       "       [6.3, 2.5, 4.9, 1.5, 'Versicolor'],\n",
       "       [6.1, 2.8, 4.7, 1.2, 'Versicolor'],\n",
       "       [6.4, 2.9, 4.3, 1.3, 'Versicolor'],\n",
       "       [6.6, 3.0, 4.4, 1.4, 'Versicolor'],\n",
       "       [6.8, 2.8, 4.8, 1.4, 'Versicolor'],\n",
       "       [6.7, 3.0, 5.0, 1.7, 'Versicolor'],\n",
       "       [6.0, 2.9, 4.5, 1.5, 'Versicolor'],\n",
       "       [5.7, 2.6, 3.5, 1.0, 'Versicolor'],\n",
       "       [5.5, 2.4, 3.8, 1.1, 'Versicolor'],\n",
       "       [5.5, 2.4, 3.7, 1.0, 'Versicolor'],\n",
       "       [5.8, 2.7, 3.9, 1.2, 'Versicolor'],\n",
       "       [6.0, 2.7, 5.1, 1.6, 'Versicolor'],\n",
       "       [5.4, 3.0, 4.5, 1.5, 'Versicolor'],\n",
       "       [6.0, 3.4, 4.5, 1.6, 'Versicolor'],\n",
       "       [6.7, 3.1, 4.7, 1.5, 'Versicolor'],\n",
       "       [6.3, 2.3, 4.4, 1.3, 'Versicolor'],\n",
       "       [5.6, 3.0, 4.1, 1.3, 'Versicolor'],\n",
       "       [5.5, 2.5, 4.0, 1.3, 'Versicolor'],\n",
       "       [5.5, 2.6, 4.4, 1.2, 'Versicolor'],\n",
       "       [6.1, 3.0, 4.6, 1.4, 'Versicolor'],\n",
       "       [5.8, 2.6, 4.0, 1.2, 'Versicolor'],\n",
       "       [5.0, 2.3, 3.3, 1.0, 'Versicolor'],\n",
       "       [5.6, 2.7, 4.2, 1.3, 'Versicolor'],\n",
       "       [5.7, 3.0, 4.2, 1.2, 'Versicolor'],\n",
       "       [5.7, 2.9, 4.2, 1.3, 'Versicolor'],\n",
       "       [6.2, 2.9, 4.3, 1.3, 'Versicolor'],\n",
       "       [5.1, 2.5, 3.0, 1.1, 'Versicolor'],\n",
       "       [5.7, 2.8, 4.1, 1.3, 'Versicolor'],\n",
       "       [6.3, 3.3, 6.0, 2.5, 'Virginica'],\n",
       "       [5.8, 2.7, 5.1, 1.9, 'Virginica'],\n",
       "       [7.1, 3.0, 5.9, 2.1, 'Virginica'],\n",
       "       [6.3, 2.9, 5.6, 1.8, 'Virginica'],\n",
       "       [6.5, 3.0, 5.8, 2.2, 'Virginica'],\n",
       "       [7.6, 3.0, 6.6, 2.1, 'Virginica'],\n",
       "       [4.9, 2.5, 4.5, 1.7, 'Virginica'],\n",
       "       [7.3, 2.9, 6.3, 1.8, 'Virginica'],\n",
       "       [6.7, 2.5, 5.8, 1.8, 'Virginica'],\n",
       "       [7.2, 3.6, 6.1, 2.5, 'Virginica'],\n",
       "       [6.5, 3.2, 5.1, 2.0, 'Virginica'],\n",
       "       [6.4, 2.7, 5.3, 1.9, 'Virginica'],\n",
       "       [6.8, 3.0, 5.5, 2.1, 'Virginica'],\n",
       "       [5.7, 2.5, 5.0, 2.0, 'Virginica'],\n",
       "       [5.8, 2.8, 5.1, 2.4, 'Virginica'],\n",
       "       [6.4, 3.2, 5.3, 2.3, 'Virginica'],\n",
       "       [6.5, 3.0, 5.5, 1.8, 'Virginica'],\n",
       "       [7.7, 3.8, 6.7, 2.2, 'Virginica'],\n",
       "       [7.7, 2.6, 6.9, 2.3, 'Virginica'],\n",
       "       [6.0, 2.2, 5.0, 1.5, 'Virginica'],\n",
       "       [6.9, 3.2, 5.7, 2.3, 'Virginica'],\n",
       "       [5.6, 2.8, 4.9, 2.0, 'Virginica'],\n",
       "       [7.7, 2.8, 6.7, 2.0, 'Virginica'],\n",
       "       [6.3, 2.7, 4.9, 1.8, 'Virginica'],\n",
       "       [6.7, 3.3, 5.7, 2.1, 'Virginica'],\n",
       "       [7.2, 3.2, 6.0, 1.8, 'Virginica'],\n",
       "       [6.2, 2.8, 4.8, 1.8, 'Virginica'],\n",
       "       [6.1, 3.0, 4.9, 1.8, 'Virginica'],\n",
       "       [6.4, 2.8, 5.6, 2.1, 'Virginica'],\n",
       "       [7.2, 3.0, 5.8, 1.6, 'Virginica'],\n",
       "       [7.4, 2.8, 6.1, 1.9, 'Virginica'],\n",
       "       [7.9, 3.8, 6.4, 2.0, 'Virginica'],\n",
       "       [6.4, 2.8, 5.6, 2.2, 'Virginica'],\n",
       "       [6.3, 2.8, 5.1, 1.5, 'Virginica'],\n",
       "       [6.1, 2.6, 5.6, 1.4, 'Virginica'],\n",
       "       [7.7, 3.0, 6.1, 2.3, 'Virginica'],\n",
       "       [6.3, 3.4, 5.6, 2.4, 'Virginica'],\n",
       "       [6.4, 3.1, 5.5, 1.8, 'Virginica'],\n",
       "       [6.0, 3.0, 4.8, 1.8, 'Virginica'],\n",
       "       [6.9, 3.1, 5.4, 2.1, 'Virginica'],\n",
       "       [6.7, 3.1, 5.6, 2.4, 'Virginica'],\n",
       "       [6.9, 3.1, 5.1, 2.3, 'Virginica'],\n",
       "       [5.8, 2.7, 5.1, 1.9, 'Virginica'],\n",
       "       [6.8, 3.2, 5.9, 2.3, 'Virginica'],\n",
       "       [6.7, 3.3, 5.7, 2.5, 'Virginica'],\n",
       "       [6.7, 3.0, 5.2, 2.3, 'Virginica'],\n",
       "       [6.3, 2.5, 5.0, 1.9, 'Virginica'],\n",
       "       [6.5, 3.0, 5.2, 2.0, 'Virginica'],\n",
       "       [6.2, 3.4, 5.4, 2.3, 'Virginica'],\n",
       "       [5.9, 3.0, 5.1, 1.8, 'Virginica']], dtype=object)"
      ]
     },
     "execution_count": 64,
     "metadata": {},
     "output_type": "execute_result"
    }
   ],
   "source": [
    "##Convert dataframe to numpy\n",
    "iris_array = np.array(iris_df)\n",
    "iris_array"
   ]
  },
  {
   "cell_type": "code",
   "execution_count": 66,
   "id": "fc60c88e-808f-4e26-92c0-7fd0c01ba1b0",
   "metadata": {},
   "outputs": [
    {
     "data": {
      "text/html": [
       "<div>\n",
       "<style scoped>\n",
       "    .dataframe tbody tr th:only-of-type {\n",
       "        vertical-align: middle;\n",
       "    }\n",
       "\n",
       "    .dataframe tbody tr th {\n",
       "        vertical-align: top;\n",
       "    }\n",
       "\n",
       "    .dataframe thead th {\n",
       "        text-align: right;\n",
       "    }\n",
       "</style>\n",
       "<table border=\"1\" class=\"dataframe\">\n",
       "  <thead>\n",
       "    <tr style=\"text-align: right;\">\n",
       "      <th></th>\n",
       "      <th>sepal.length</th>\n",
       "      <th>sepal.width</th>\n",
       "      <th>petal.length</th>\n",
       "      <th>petal.width</th>\n",
       "      <th>variety</th>\n",
       "    </tr>\n",
       "  </thead>\n",
       "  <tbody>\n",
       "    <tr>\n",
       "      <th>0</th>\n",
       "      <td>5.1</td>\n",
       "      <td>3.5</td>\n",
       "      <td>1.4</td>\n",
       "      <td>0.2</td>\n",
       "      <td>Setosa</td>\n",
       "    </tr>\n",
       "    <tr>\n",
       "      <th>1</th>\n",
       "      <td>4.9</td>\n",
       "      <td>3.0</td>\n",
       "      <td>1.4</td>\n",
       "      <td>0.2</td>\n",
       "      <td>Setosa</td>\n",
       "    </tr>\n",
       "    <tr>\n",
       "      <th>2</th>\n",
       "      <td>4.7</td>\n",
       "      <td>3.2</td>\n",
       "      <td>1.3</td>\n",
       "      <td>0.2</td>\n",
       "      <td>Setosa</td>\n",
       "    </tr>\n",
       "    <tr>\n",
       "      <th>3</th>\n",
       "      <td>4.6</td>\n",
       "      <td>3.1</td>\n",
       "      <td>1.5</td>\n",
       "      <td>0.2</td>\n",
       "      <td>Setosa</td>\n",
       "    </tr>\n",
       "    <tr>\n",
       "      <th>4</th>\n",
       "      <td>5.0</td>\n",
       "      <td>3.6</td>\n",
       "      <td>1.4</td>\n",
       "      <td>0.2</td>\n",
       "      <td>Setosa</td>\n",
       "    </tr>\n",
       "    <tr>\n",
       "      <th>...</th>\n",
       "      <td>...</td>\n",
       "      <td>...</td>\n",
       "      <td>...</td>\n",
       "      <td>...</td>\n",
       "      <td>...</td>\n",
       "    </tr>\n",
       "    <tr>\n",
       "      <th>145</th>\n",
       "      <td>6.7</td>\n",
       "      <td>3.0</td>\n",
       "      <td>5.2</td>\n",
       "      <td>2.3</td>\n",
       "      <td>Virginica</td>\n",
       "    </tr>\n",
       "    <tr>\n",
       "      <th>146</th>\n",
       "      <td>6.3</td>\n",
       "      <td>2.5</td>\n",
       "      <td>5.0</td>\n",
       "      <td>1.9</td>\n",
       "      <td>Virginica</td>\n",
       "    </tr>\n",
       "    <tr>\n",
       "      <th>147</th>\n",
       "      <td>6.5</td>\n",
       "      <td>3.0</td>\n",
       "      <td>5.2</td>\n",
       "      <td>2.0</td>\n",
       "      <td>Virginica</td>\n",
       "    </tr>\n",
       "    <tr>\n",
       "      <th>148</th>\n",
       "      <td>6.2</td>\n",
       "      <td>3.4</td>\n",
       "      <td>5.4</td>\n",
       "      <td>2.3</td>\n",
       "      <td>Virginica</td>\n",
       "    </tr>\n",
       "    <tr>\n",
       "      <th>149</th>\n",
       "      <td>5.9</td>\n",
       "      <td>3.0</td>\n",
       "      <td>5.1</td>\n",
       "      <td>1.8</td>\n",
       "      <td>Virginica</td>\n",
       "    </tr>\n",
       "  </tbody>\n",
       "</table>\n",
       "<p>150 rows × 5 columns</p>\n",
       "</div>"
      ],
      "text/plain": [
       "     sepal.length  sepal.width  petal.length  petal.width    variety\n",
       "0             5.1          3.5           1.4          0.2     Setosa\n",
       "1             4.9          3.0           1.4          0.2     Setosa\n",
       "2             4.7          3.2           1.3          0.2     Setosa\n",
       "3             4.6          3.1           1.5          0.2     Setosa\n",
       "4             5.0          3.6           1.4          0.2     Setosa\n",
       "..            ...          ...           ...          ...        ...\n",
       "145           6.7          3.0           5.2          2.3  Virginica\n",
       "146           6.3          2.5           5.0          1.9  Virginica\n",
       "147           6.5          3.0           5.2          2.0  Virginica\n",
       "148           6.2          3.4           5.4          2.3  Virginica\n",
       "149           5.9          3.0           5.1          1.8  Virginica\n",
       "\n",
       "[150 rows x 5 columns]"
      ]
     },
     "execution_count": 66,
     "metadata": {},
     "output_type": "execute_result"
    }
   ],
   "source": [
    "iris_df"
   ]
  },
  {
   "cell_type": "code",
   "execution_count": 74,
   "id": "5b2a1ee1-7004-4d8b-8a12-823882c664fe",
   "metadata": {},
   "outputs": [
    {
     "data": {
      "text/html": [
       "<div>\n",
       "<style scoped>\n",
       "    .dataframe tbody tr th:only-of-type {\n",
       "        vertical-align: middle;\n",
       "    }\n",
       "\n",
       "    .dataframe tbody tr th {\n",
       "        vertical-align: top;\n",
       "    }\n",
       "\n",
       "    .dataframe thead th {\n",
       "        text-align: right;\n",
       "    }\n",
       "</style>\n",
       "<table border=\"1\" class=\"dataframe\">\n",
       "  <thead>\n",
       "    <tr style=\"text-align: right;\">\n",
       "      <th></th>\n",
       "      <th>sepal.length</th>\n",
       "      <th>petal.width</th>\n",
       "    </tr>\n",
       "  </thead>\n",
       "  <tbody>\n",
       "    <tr>\n",
       "      <th>0</th>\n",
       "      <td>5.1</td>\n",
       "      <td>0.2</td>\n",
       "    </tr>\n",
       "    <tr>\n",
       "      <th>1</th>\n",
       "      <td>4.9</td>\n",
       "      <td>0.2</td>\n",
       "    </tr>\n",
       "    <tr>\n",
       "      <th>2</th>\n",
       "      <td>4.7</td>\n",
       "      <td>0.2</td>\n",
       "    </tr>\n",
       "    <tr>\n",
       "      <th>3</th>\n",
       "      <td>4.6</td>\n",
       "      <td>0.2</td>\n",
       "    </tr>\n",
       "    <tr>\n",
       "      <th>4</th>\n",
       "      <td>5.0</td>\n",
       "      <td>0.2</td>\n",
       "    </tr>\n",
       "    <tr>\n",
       "      <th>...</th>\n",
       "      <td>...</td>\n",
       "      <td>...</td>\n",
       "    </tr>\n",
       "    <tr>\n",
       "      <th>145</th>\n",
       "      <td>6.7</td>\n",
       "      <td>2.3</td>\n",
       "    </tr>\n",
       "    <tr>\n",
       "      <th>146</th>\n",
       "      <td>6.3</td>\n",
       "      <td>1.9</td>\n",
       "    </tr>\n",
       "    <tr>\n",
       "      <th>147</th>\n",
       "      <td>6.5</td>\n",
       "      <td>2.0</td>\n",
       "    </tr>\n",
       "    <tr>\n",
       "      <th>148</th>\n",
       "      <td>6.2</td>\n",
       "      <td>2.3</td>\n",
       "    </tr>\n",
       "    <tr>\n",
       "      <th>149</th>\n",
       "      <td>5.9</td>\n",
       "      <td>1.8</td>\n",
       "    </tr>\n",
       "  </tbody>\n",
       "</table>\n",
       "<p>150 rows × 2 columns</p>\n",
       "</div>"
      ],
      "text/plain": [
       "     sepal.length  petal.width\n",
       "0             5.1          0.2\n",
       "1             4.9          0.2\n",
       "2             4.7          0.2\n",
       "3             4.6          0.2\n",
       "4             5.0          0.2\n",
       "..            ...          ...\n",
       "145           6.7          2.3\n",
       "146           6.3          1.9\n",
       "147           6.5          2.0\n",
       "148           6.2          2.3\n",
       "149           5.9          1.8\n",
       "\n",
       "[150 rows x 2 columns]"
      ]
     },
     "execution_count": 74,
     "metadata": {},
     "output_type": "execute_result"
    }
   ],
   "source": [
    "iris_df[[\"sepal.length\",\"petal.width\"]]"
   ]
  },
  {
   "cell_type": "code",
   "execution_count": 79,
   "id": "0280f3c4-d18f-470d-9692-59271b841ce8",
   "metadata": {},
   "outputs": [
    {
     "data": {
      "text/plain": [
       "0.2"
      ]
     },
     "execution_count": 79,
     "metadata": {},
     "output_type": "execute_result"
    }
   ],
   "source": [
    "## print specified rows\n",
    "iris_df.iloc[20,3]"
   ]
  },
  {
   "cell_type": "code",
   "execution_count": 81,
   "id": "ae64ba34-a2f6-4cf1-9229-5727dcb33d39",
   "metadata": {},
   "outputs": [
    {
     "data": {
      "text/html": [
       "<div>\n",
       "<style scoped>\n",
       "    .dataframe tbody tr th:only-of-type {\n",
       "        vertical-align: middle;\n",
       "    }\n",
       "\n",
       "    .dataframe tbody tr th {\n",
       "        vertical-align: top;\n",
       "    }\n",
       "\n",
       "    .dataframe thead th {\n",
       "        text-align: right;\n",
       "    }\n",
       "</style>\n",
       "<table border=\"1\" class=\"dataframe\">\n",
       "  <thead>\n",
       "    <tr style=\"text-align: right;\">\n",
       "      <th></th>\n",
       "      <th>sepal.length</th>\n",
       "      <th>sepal.width</th>\n",
       "      <th>petal.length</th>\n",
       "      <th>petal.width</th>\n",
       "      <th>variety</th>\n",
       "    </tr>\n",
       "  </thead>\n",
       "  <tbody>\n",
       "    <tr>\n",
       "      <th>10</th>\n",
       "      <td>5.4</td>\n",
       "      <td>3.7</td>\n",
       "      <td>1.5</td>\n",
       "      <td>0.2</td>\n",
       "      <td>Setosa</td>\n",
       "    </tr>\n",
       "    <tr>\n",
       "      <th>11</th>\n",
       "      <td>4.8</td>\n",
       "      <td>3.4</td>\n",
       "      <td>1.6</td>\n",
       "      <td>0.2</td>\n",
       "      <td>Setosa</td>\n",
       "    </tr>\n",
       "    <tr>\n",
       "      <th>12</th>\n",
       "      <td>4.8</td>\n",
       "      <td>3.0</td>\n",
       "      <td>1.4</td>\n",
       "      <td>0.1</td>\n",
       "      <td>Setosa</td>\n",
       "    </tr>\n",
       "    <tr>\n",
       "      <th>13</th>\n",
       "      <td>4.3</td>\n",
       "      <td>3.0</td>\n",
       "      <td>1.1</td>\n",
       "      <td>0.1</td>\n",
       "      <td>Setosa</td>\n",
       "    </tr>\n",
       "    <tr>\n",
       "      <th>14</th>\n",
       "      <td>5.8</td>\n",
       "      <td>4.0</td>\n",
       "      <td>1.2</td>\n",
       "      <td>0.2</td>\n",
       "      <td>Setosa</td>\n",
       "    </tr>\n",
       "    <tr>\n",
       "      <th>15</th>\n",
       "      <td>5.7</td>\n",
       "      <td>4.4</td>\n",
       "      <td>1.5</td>\n",
       "      <td>0.4</td>\n",
       "      <td>Setosa</td>\n",
       "    </tr>\n",
       "    <tr>\n",
       "      <th>16</th>\n",
       "      <td>5.4</td>\n",
       "      <td>3.9</td>\n",
       "      <td>1.3</td>\n",
       "      <td>0.4</td>\n",
       "      <td>Setosa</td>\n",
       "    </tr>\n",
       "    <tr>\n",
       "      <th>17</th>\n",
       "      <td>5.1</td>\n",
       "      <td>3.5</td>\n",
       "      <td>1.4</td>\n",
       "      <td>0.3</td>\n",
       "      <td>Setosa</td>\n",
       "    </tr>\n",
       "    <tr>\n",
       "      <th>18</th>\n",
       "      <td>5.7</td>\n",
       "      <td>3.8</td>\n",
       "      <td>1.7</td>\n",
       "      <td>0.3</td>\n",
       "      <td>Setosa</td>\n",
       "    </tr>\n",
       "    <tr>\n",
       "      <th>19</th>\n",
       "      <td>5.1</td>\n",
       "      <td>3.8</td>\n",
       "      <td>1.5</td>\n",
       "      <td>0.3</td>\n",
       "      <td>Setosa</td>\n",
       "    </tr>\n",
       "    <tr>\n",
       "      <th>20</th>\n",
       "      <td>5.4</td>\n",
       "      <td>3.4</td>\n",
       "      <td>1.7</td>\n",
       "      <td>0.2</td>\n",
       "      <td>Setosa</td>\n",
       "    </tr>\n",
       "  </tbody>\n",
       "</table>\n",
       "</div>"
      ],
      "text/plain": [
       "    sepal.length  sepal.width  petal.length  petal.width variety\n",
       "10           5.4          3.7           1.5          0.2  Setosa\n",
       "11           4.8          3.4           1.6          0.2  Setosa\n",
       "12           4.8          3.0           1.4          0.1  Setosa\n",
       "13           4.3          3.0           1.1          0.1  Setosa\n",
       "14           5.8          4.0           1.2          0.2  Setosa\n",
       "15           5.7          4.4           1.5          0.4  Setosa\n",
       "16           5.4          3.9           1.3          0.4  Setosa\n",
       "17           5.1          3.5           1.4          0.3  Setosa\n",
       "18           5.7          3.8           1.7          0.3  Setosa\n",
       "19           5.1          3.8           1.5          0.3  Setosa\n",
       "20           5.4          3.4           1.7          0.2  Setosa"
      ]
     },
     "execution_count": 81,
     "metadata": {},
     "output_type": "execute_result"
    }
   ],
   "source": [
    "#print the rows with index range 10-20\n",
    "iris_df.iloc[10:21]"
   ]
  },
  {
   "cell_type": "code",
   "execution_count": 83,
   "id": "4357b6d0-a243-42bc-8b47-91a7da25d5e1",
   "metadata": {},
   "outputs": [
    {
     "data": {
      "text/html": [
       "<div>\n",
       "<style scoped>\n",
       "    .dataframe tbody tr th:only-of-type {\n",
       "        vertical-align: middle;\n",
       "    }\n",
       "\n",
       "    .dataframe tbody tr th {\n",
       "        vertical-align: top;\n",
       "    }\n",
       "\n",
       "    .dataframe thead th {\n",
       "        text-align: right;\n",
       "    }\n",
       "</style>\n",
       "<table border=\"1\" class=\"dataframe\">\n",
       "  <thead>\n",
       "    <tr style=\"text-align: right;\">\n",
       "      <th></th>\n",
       "      <th>sepal.length</th>\n",
       "      <th>sepal.width</th>\n",
       "      <th>petal.length</th>\n",
       "      <th>petal.width</th>\n",
       "      <th>variety</th>\n",
       "    </tr>\n",
       "  </thead>\n",
       "  <tbody>\n",
       "    <tr>\n",
       "      <th>10</th>\n",
       "      <td>5.4</td>\n",
       "      <td>3.7</td>\n",
       "      <td>1.5</td>\n",
       "      <td>0.2</td>\n",
       "      <td>Setosa</td>\n",
       "    </tr>\n",
       "    <tr>\n",
       "      <th>11</th>\n",
       "      <td>4.8</td>\n",
       "      <td>3.4</td>\n",
       "      <td>1.6</td>\n",
       "      <td>0.2</td>\n",
       "      <td>Setosa</td>\n",
       "    </tr>\n",
       "    <tr>\n",
       "      <th>12</th>\n",
       "      <td>4.8</td>\n",
       "      <td>3.0</td>\n",
       "      <td>1.4</td>\n",
       "      <td>0.1</td>\n",
       "      <td>Setosa</td>\n",
       "    </tr>\n",
       "    <tr>\n",
       "      <th>13</th>\n",
       "      <td>4.3</td>\n",
       "      <td>3.0</td>\n",
       "      <td>1.1</td>\n",
       "      <td>0.1</td>\n",
       "      <td>Setosa</td>\n",
       "    </tr>\n",
       "    <tr>\n",
       "      <th>14</th>\n",
       "      <td>5.8</td>\n",
       "      <td>4.0</td>\n",
       "      <td>1.2</td>\n",
       "      <td>0.2</td>\n",
       "      <td>Setosa</td>\n",
       "    </tr>\n",
       "    <tr>\n",
       "      <th>15</th>\n",
       "      <td>5.7</td>\n",
       "      <td>4.4</td>\n",
       "      <td>1.5</td>\n",
       "      <td>0.4</td>\n",
       "      <td>Setosa</td>\n",
       "    </tr>\n",
       "    <tr>\n",
       "      <th>16</th>\n",
       "      <td>5.4</td>\n",
       "      <td>3.9</td>\n",
       "      <td>1.3</td>\n",
       "      <td>0.4</td>\n",
       "      <td>Setosa</td>\n",
       "    </tr>\n",
       "    <tr>\n",
       "      <th>17</th>\n",
       "      <td>5.1</td>\n",
       "      <td>3.5</td>\n",
       "      <td>1.4</td>\n",
       "      <td>0.3</td>\n",
       "      <td>Setosa</td>\n",
       "    </tr>\n",
       "    <tr>\n",
       "      <th>18</th>\n",
       "      <td>5.7</td>\n",
       "      <td>3.8</td>\n",
       "      <td>1.7</td>\n",
       "      <td>0.3</td>\n",
       "      <td>Setosa</td>\n",
       "    </tr>\n",
       "    <tr>\n",
       "      <th>19</th>\n",
       "      <td>5.1</td>\n",
       "      <td>3.8</td>\n",
       "      <td>1.5</td>\n",
       "      <td>0.3</td>\n",
       "      <td>Setosa</td>\n",
       "    </tr>\n",
       "    <tr>\n",
       "      <th>20</th>\n",
       "      <td>5.4</td>\n",
       "      <td>3.4</td>\n",
       "      <td>1.7</td>\n",
       "      <td>0.2</td>\n",
       "      <td>Setosa</td>\n",
       "    </tr>\n",
       "  </tbody>\n",
       "</table>\n",
       "</div>"
      ],
      "text/plain": [
       "    sepal.length  sepal.width  petal.length  petal.width variety\n",
       "10           5.4          3.7           1.5          0.2  Setosa\n",
       "11           4.8          3.4           1.6          0.2  Setosa\n",
       "12           4.8          3.0           1.4          0.1  Setosa\n",
       "13           4.3          3.0           1.1          0.1  Setosa\n",
       "14           5.8          4.0           1.2          0.2  Setosa\n",
       "15           5.7          4.4           1.5          0.4  Setosa\n",
       "16           5.4          3.9           1.3          0.4  Setosa\n",
       "17           5.1          3.5           1.4          0.3  Setosa\n",
       "18           5.7          3.8           1.7          0.3  Setosa\n",
       "19           5.1          3.8           1.5          0.3  Setosa\n",
       "20           5.4          3.4           1.7          0.2  Setosa"
      ]
     },
     "execution_count": 83,
     "metadata": {},
     "output_type": "execute_result"
    }
   ],
   "source": [
    "#print the rows with index range 10-20\n",
    "iris_df.iloc[10:21,:]"
   ]
  },
  {
   "cell_type": "code",
   "execution_count": 99,
   "id": "4e1552c0-618c-4f67-9409-c89da376a37a",
   "metadata": {},
   "outputs": [
    {
     "ename": "SyntaxError",
     "evalue": "invalid syntax (3899513148.py, line 1)",
     "output_type": "error",
     "traceback": [
      "\u001b[1;36m  Cell \u001b[1;32mIn[99], line 1\u001b[1;36m\u001b[0m\n\u001b[1;33m    iris_df.iloc[[15:21],[0:3]]\u001b[0m\n\u001b[1;37m                    ^\u001b[0m\n\u001b[1;31mSyntaxError\u001b[0m\u001b[1;31m:\u001b[0m invalid syntax\n"
     ]
    }
   ],
   "source": [
    "iris_df.iloc[[15:21],[0:3]]"
   ]
  },
  {
   "cell_type": "code",
   "execution_count": 97,
   "id": "de2d65d6-09e3-4aa1-bbef-ff15dbef8a63",
   "metadata": {},
   "outputs": [
    {
     "data": {
      "text/html": [
       "<div>\n",
       "<style scoped>\n",
       "    .dataframe tbody tr th:only-of-type {\n",
       "        vertical-align: middle;\n",
       "    }\n",
       "\n",
       "    .dataframe tbody tr th {\n",
       "        vertical-align: top;\n",
       "    }\n",
       "\n",
       "    .dataframe thead th {\n",
       "        text-align: right;\n",
       "    }\n",
       "</style>\n",
       "<table border=\"1\" class=\"dataframe\">\n",
       "  <thead>\n",
       "    <tr style=\"text-align: right;\">\n",
       "      <th></th>\n",
       "      <th>sepal.length</th>\n",
       "      <th>sepal.width</th>\n",
       "      <th>petal.length</th>\n",
       "    </tr>\n",
       "  </thead>\n",
       "  <tbody>\n",
       "    <tr>\n",
       "      <th>10</th>\n",
       "      <td>5.4</td>\n",
       "      <td>3.7</td>\n",
       "      <td>1.5</td>\n",
       "    </tr>\n",
       "    <tr>\n",
       "      <th>11</th>\n",
       "      <td>4.8</td>\n",
       "      <td>3.4</td>\n",
       "      <td>1.6</td>\n",
       "    </tr>\n",
       "    <tr>\n",
       "      <th>12</th>\n",
       "      <td>4.8</td>\n",
       "      <td>3.0</td>\n",
       "      <td>1.4</td>\n",
       "    </tr>\n",
       "    <tr>\n",
       "      <th>13</th>\n",
       "      <td>4.3</td>\n",
       "      <td>3.0</td>\n",
       "      <td>1.1</td>\n",
       "    </tr>\n",
       "    <tr>\n",
       "      <th>14</th>\n",
       "      <td>5.8</td>\n",
       "      <td>4.0</td>\n",
       "      <td>1.2</td>\n",
       "    </tr>\n",
       "    <tr>\n",
       "      <th>15</th>\n",
       "      <td>5.7</td>\n",
       "      <td>4.4</td>\n",
       "      <td>1.5</td>\n",
       "    </tr>\n",
       "    <tr>\n",
       "      <th>16</th>\n",
       "      <td>5.4</td>\n",
       "      <td>3.9</td>\n",
       "      <td>1.3</td>\n",
       "    </tr>\n",
       "    <tr>\n",
       "      <th>17</th>\n",
       "      <td>5.1</td>\n",
       "      <td>3.5</td>\n",
       "      <td>1.4</td>\n",
       "    </tr>\n",
       "    <tr>\n",
       "      <th>18</th>\n",
       "      <td>5.7</td>\n",
       "      <td>3.8</td>\n",
       "      <td>1.7</td>\n",
       "    </tr>\n",
       "    <tr>\n",
       "      <th>19</th>\n",
       "      <td>5.1</td>\n",
       "      <td>3.8</td>\n",
       "      <td>1.5</td>\n",
       "    </tr>\n",
       "    <tr>\n",
       "      <th>20</th>\n",
       "      <td>5.4</td>\n",
       "      <td>3.4</td>\n",
       "      <td>1.7</td>\n",
       "    </tr>\n",
       "  </tbody>\n",
       "</table>\n",
       "</div>"
      ],
      "text/plain": [
       "    sepal.length  sepal.width  petal.length\n",
       "10           5.4          3.7           1.5\n",
       "11           4.8          3.4           1.6\n",
       "12           4.8          3.0           1.4\n",
       "13           4.3          3.0           1.1\n",
       "14           5.8          4.0           1.2\n",
       "15           5.7          4.4           1.5\n",
       "16           5.4          3.9           1.3\n",
       "17           5.1          3.5           1.4\n",
       "18           5.7          3.8           1.7\n",
       "19           5.1          3.8           1.5\n",
       "20           5.4          3.4           1.7"
      ]
     },
     "execution_count": 97,
     "metadata": {},
     "output_type": "execute_result"
    }
   ],
   "source": [
    "##use of loc() function\n",
    "iris_df.loc[10:20,\"sepal.length\":\"petal.length\"]"
   ]
  },
  {
   "cell_type": "code",
   "execution_count": 103,
   "id": "33a83e8f-ea12-46a7-bb26-43c236b2a020",
   "metadata": {},
   "outputs": [
    {
     "ename": "SyntaxError",
     "evalue": "unmatched ']' (4042624917.py, line 1)",
     "output_type": "error",
     "traceback": [
      "\u001b[1;36m  Cell \u001b[1;32mIn[103], line 1\u001b[1;36m\u001b[0m\n\u001b[1;33m    iris_df.loc[[10,:][15,:][20,:]\"sepal.length\":\"petal.length\"]]\u001b[0m\n\u001b[1;37m                                                                ^\u001b[0m\n\u001b[1;31mSyntaxError\u001b[0m\u001b[1;31m:\u001b[0m unmatched ']'\n"
     ]
    }
   ],
   "source": [
    "iris_df.loc[[10,:][15,:][20,:]\"sepal.length\":\"petal.length\"]]"
   ]
  },
  {
   "cell_type": "code",
   "execution_count": 115,
   "id": "5f776742-d5a2-4319-bc17-e8131ea62b28",
   "metadata": {},
   "outputs": [
    {
     "data": {
      "text/html": [
       "<div>\n",
       "<style scoped>\n",
       "    .dataframe tbody tr th:only-of-type {\n",
       "        vertical-align: middle;\n",
       "    }\n",
       "\n",
       "    .dataframe tbody tr th {\n",
       "        vertical-align: top;\n",
       "    }\n",
       "\n",
       "    .dataframe thead th {\n",
       "        text-align: right;\n",
       "    }\n",
       "</style>\n",
       "<table border=\"1\" class=\"dataframe\">\n",
       "  <thead>\n",
       "    <tr style=\"text-align: right;\">\n",
       "      <th></th>\n",
       "      <th>weight</th>\n",
       "      <th>height</th>\n",
       "    </tr>\n",
       "  </thead>\n",
       "  <tbody>\n",
       "    <tr>\n",
       "      <th>0</th>\n",
       "      <td>88</td>\n",
       "      <td>156</td>\n",
       "    </tr>\n",
       "    <tr>\n",
       "      <th>1</th>\n",
       "      <td>67</td>\n",
       "      <td>165</td>\n",
       "    </tr>\n",
       "    <tr>\n",
       "      <th>2</th>\n",
       "      <td>0</td>\n",
       "      <td>186</td>\n",
       "    </tr>\n",
       "    <tr>\n",
       "      <th>3</th>\n",
       "      <td>56</td>\n",
       "      <td>161</td>\n",
       "    </tr>\n",
       "    <tr>\n",
       "      <th>4</th>\n",
       "      <td>46</td>\n",
       "      <td>176</td>\n",
       "    </tr>\n",
       "    <tr>\n",
       "      <th>5</th>\n",
       "      <td>89</td>\n",
       "      <td>170</td>\n",
       "    </tr>\n",
       "  </tbody>\n",
       "</table>\n",
       "</div>"
      ],
      "text/plain": [
       "   weight  height\n",
       "0      88     156\n",
       "1      67     165\n",
       "2       0     186\n",
       "3      56     161\n",
       "4      46     176\n",
       "5      89     170"
      ]
     },
     "execution_count": 115,
     "metadata": {},
     "output_type": "execute_result"
    }
   ],
   "source": [
    "#Create a dataframe with array\n",
    "data = {\"weight\":[88,67,00,56,46,89],\"height\":[156,165,186,161,176,170]}\n",
    "bmi = pd.DataFrame(data)\n",
    "bmi"
   ]
  },
  {
   "cell_type": "code",
   "execution_count": 125,
   "id": "3aecc267-e454-468c-a8fa-5fbb44773aa8",
   "metadata": {},
   "outputs": [
    {
     "ename": "AttributeError",
     "evalue": "module 'pandas' has no attribute 'dictionary'",
     "output_type": "error",
     "traceback": [
      "\u001b[1;31m---------------------------------------------------------------------------\u001b[0m",
      "\u001b[1;31mAttributeError\u001b[0m                            Traceback (most recent call last)",
      "Cell \u001b[1;32mIn[125], line 4\u001b[0m\n\u001b[0;32m      2\u001b[0m \u001b[38;5;28;01mimport\u001b[39;00m \u001b[38;5;21;01mpandas\u001b[39;00m \u001b[38;5;28;01mas\u001b[39;00m \u001b[38;5;21;01mpd\u001b[39;00m\n\u001b[0;32m      3\u001b[0m data \u001b[38;5;241m=\u001b[39m {\u001b[38;5;124m\"\u001b[39m\u001b[38;5;124mweight\u001b[39m\u001b[38;5;124m\"\u001b[39m:[\u001b[38;5;241m88\u001b[39m,\u001b[38;5;241m67\u001b[39m,\u001b[38;5;241m00\u001b[39m,\u001b[38;5;241m56\u001b[39m,\u001b[38;5;241m46\u001b[39m,\u001b[38;5;241m89\u001b[39m],\u001b[38;5;124m\"\u001b[39m\u001b[38;5;124mheight\u001b[39m\u001b[38;5;124m\"\u001b[39m:[\u001b[38;5;241m156\u001b[39m,\u001b[38;5;241m165\u001b[39m,\u001b[38;5;241m186\u001b[39m,\u001b[38;5;241m161\u001b[39m,\u001b[38;5;241m176\u001b[39m,\u001b[38;5;241m170\u001b[39m]}\n\u001b[1;32m----> 4\u001b[0m bmi \u001b[38;5;241m=\u001b[39m pd\u001b[38;5;241m.\u001b[39mdictionary(data)\n\u001b[0;32m      5\u001b[0m bmi\n",
      "\u001b[1;31mAttributeError\u001b[0m: module 'pandas' has no attribute 'dictionary'"
     ]
    }
   ],
   "source": [
    "#Create this bmi table using dictionary\n",
    "import pandas as pd\n",
    "data = {\"weight\":[88,67,00,56,46,89],\"height\":[156,165,186,161,176,170]}\n",
    "bmi = pd.dictionary(data)\n",
    "bmi"
   ]
  },
  {
   "cell_type": "code",
   "execution_count": 127,
   "id": "20b58e3c-1b11-48e3-bd6b-bbee9652c27d",
   "metadata": {},
   "outputs": [
    {
     "data": {
      "text/html": [
       "<div>\n",
       "<style scoped>\n",
       "    .dataframe tbody tr th:only-of-type {\n",
       "        vertical-align: middle;\n",
       "    }\n",
       "\n",
       "    .dataframe tbody tr th {\n",
       "        vertical-align: top;\n",
       "    }\n",
       "\n",
       "    .dataframe thead th {\n",
       "        text-align: right;\n",
       "    }\n",
       "</style>\n",
       "<table border=\"1\" class=\"dataframe\">\n",
       "  <thead>\n",
       "    <tr style=\"text-align: right;\">\n",
       "      <th></th>\n",
       "      <th>weight</th>\n",
       "      <th>height</th>\n",
       "      <th>BMI</th>\n",
       "    </tr>\n",
       "  </thead>\n",
       "  <tbody>\n",
       "    <tr>\n",
       "      <th>0</th>\n",
       "      <td>88</td>\n",
       "      <td>156</td>\n",
       "      <td>36.160421</td>\n",
       "    </tr>\n",
       "    <tr>\n",
       "      <th>1</th>\n",
       "      <td>67</td>\n",
       "      <td>165</td>\n",
       "      <td>24.609734</td>\n",
       "    </tr>\n",
       "    <tr>\n",
       "      <th>2</th>\n",
       "      <td>0</td>\n",
       "      <td>186</td>\n",
       "      <td>0.000000</td>\n",
       "    </tr>\n",
       "    <tr>\n",
       "      <th>3</th>\n",
       "      <td>56</td>\n",
       "      <td>161</td>\n",
       "      <td>21.604105</td>\n",
       "    </tr>\n",
       "    <tr>\n",
       "      <th>4</th>\n",
       "      <td>46</td>\n",
       "      <td>176</td>\n",
       "      <td>14.850207</td>\n",
       "    </tr>\n",
       "    <tr>\n",
       "      <th>5</th>\n",
       "      <td>89</td>\n",
       "      <td>170</td>\n",
       "      <td>30.795848</td>\n",
       "    </tr>\n",
       "  </tbody>\n",
       "</table>\n",
       "</div>"
      ],
      "text/plain": [
       "   weight  height        BMI\n",
       "0      88     156  36.160421\n",
       "1      67     165  24.609734\n",
       "2       0     186   0.000000\n",
       "3      56     161  21.604105\n",
       "4      46     176  14.850207\n",
       "5      89     170  30.795848"
      ]
     },
     "execution_count": 127,
     "metadata": {},
     "output_type": "execute_result"
    }
   ],
   "source": [
    "##Create a new bmi column\n",
    "bmi[\"BMI\"] = bmi[\"weight\"]/(bmi[\"height\"]/100)**2\n",
    "bmi"
   ]
  },
  {
   "cell_type": "code",
   "execution_count": 129,
   "id": "6a2e187c-9c0d-4f8c-88d0-e9f75903c74e",
   "metadata": {},
   "outputs": [
    {
     "data": {
      "text/html": [
       "<div>\n",
       "<style scoped>\n",
       "    .dataframe tbody tr th:only-of-type {\n",
       "        vertical-align: middle;\n",
       "    }\n",
       "\n",
       "    .dataframe tbody tr th {\n",
       "        vertical-align: top;\n",
       "    }\n",
       "\n",
       "    .dataframe thead th {\n",
       "        text-align: right;\n",
       "    }\n",
       "</style>\n",
       "<table border=\"1\" class=\"dataframe\">\n",
       "  <thead>\n",
       "    <tr style=\"text-align: right;\">\n",
       "      <th></th>\n",
       "      <th>weight</th>\n",
       "      <th>height</th>\n",
       "      <th>BMI</th>\n",
       "    </tr>\n",
       "  </thead>\n",
       "  <tbody>\n",
       "    <tr>\n",
       "      <th>0</th>\n",
       "      <td>88</td>\n",
       "      <td>156.0</td>\n",
       "      <td>36.160421</td>\n",
       "    </tr>\n",
       "    <tr>\n",
       "      <th>1</th>\n",
       "      <td>67</td>\n",
       "      <td>165.0</td>\n",
       "      <td>24.609734</td>\n",
       "    </tr>\n",
       "    <tr>\n",
       "      <th>2</th>\n",
       "      <td>0</td>\n",
       "      <td>186.0</td>\n",
       "      <td>0.000000</td>\n",
       "    </tr>\n",
       "    <tr>\n",
       "      <th>3</th>\n",
       "      <td>78</td>\n",
       "      <td>NaN</td>\n",
       "      <td>NaN</td>\n",
       "    </tr>\n",
       "    <tr>\n",
       "      <th>4</th>\n",
       "      <td>46</td>\n",
       "      <td>176.0</td>\n",
       "      <td>14.850207</td>\n",
       "    </tr>\n",
       "    <tr>\n",
       "      <th>5</th>\n",
       "      <td>89</td>\n",
       "      <td>170.0</td>\n",
       "      <td>30.795848</td>\n",
       "    </tr>\n",
       "  </tbody>\n",
       "</table>\n",
       "</div>"
      ],
      "text/plain": [
       "   weight  height        BMI\n",
       "0      88   156.0  36.160421\n",
       "1      67   165.0  24.609734\n",
       "2       0   186.0   0.000000\n",
       "3      78     NaN        NaN\n",
       "4      46   176.0  14.850207\n",
       "5      89   170.0  30.795848"
      ]
     },
     "execution_count": 129,
     "metadata": {},
     "output_type": "execute_result"
    }
   ],
   "source": [
    "##Insert new record \n",
    "bmi.loc[3] = [78,np.nan,np.nan]\n",
    "bmi"
   ]
  },
  {
   "cell_type": "code",
   "execution_count": 131,
   "id": "44f553bb-05de-4525-92b0-da6ad526aee1",
   "metadata": {},
   "outputs": [
    {
     "name": "stdout",
     "output_type": "stream",
     "text": [
      "   weight  height        BMI\n",
      "0    88.0   156.0  36.160421\n",
      "1    67.0   165.0  24.609734\n",
      "2     0.0   186.0   0.000000\n",
      "3    78.0     NaN        NaN\n",
      "4    46.0   176.0  14.850207\n",
      "5     NaN    65.0        NaN\n"
     ]
    }
   ],
   "source": [
    "bmi.loc[5] = [np.nan, 65, np.nan]\n",
    "print(bmi)"
   ]
  },
  {
   "cell_type": "code",
   "execution_count": 133,
   "id": "aa65705e-1f30-4e77-84dd-519a593c5b64",
   "metadata": {},
   "outputs": [
    {
     "data": {
      "text/plain": [
       "<bound method DataFrame.info of    weight  height        BMI\n",
       "0    88.0   156.0  36.160421\n",
       "1    67.0   165.0  24.609734\n",
       "2     0.0   186.0   0.000000\n",
       "3    78.0     NaN        NaN\n",
       "4    46.0   176.0  14.850207\n",
       "5     NaN    65.0        NaN>"
      ]
     },
     "execution_count": 133,
     "metadata": {},
     "output_type": "execute_result"
    }
   ],
   "source": [
    "#Info\n",
    "bmi.info"
   ]
  },
  {
   "cell_type": "code",
   "execution_count": 135,
   "id": "a7496cac-e9d1-4e0a-a05d-eff720f3f228",
   "metadata": {},
   "outputs": [
    {
     "name": "stdout",
     "output_type": "stream",
     "text": [
      "<class 'pandas.core.frame.DataFrame'>\n",
      "RangeIndex: 6 entries, 0 to 5\n",
      "Data columns (total 3 columns):\n",
      " #   Column  Non-Null Count  Dtype  \n",
      "---  ------  --------------  -----  \n",
      " 0   weight  5 non-null      float64\n",
      " 1   height  5 non-null      float64\n",
      " 2   BMI     4 non-null      float64\n",
      "dtypes: float64(3)\n",
      "memory usage: 276.0 bytes\n"
     ]
    }
   ],
   "source": [
    "#Info\n",
    "bmi.info()"
   ]
  },
  {
   "cell_type": "code",
   "execution_count": 137,
   "id": "917281db-257b-41bc-8c18-80b8b030d7b7",
   "metadata": {},
   "outputs": [
    {
     "data": {
      "text/plain": [
       "weight    1\n",
       "height    1\n",
       "BMI       2\n",
       "dtype: int64"
      ]
     },
     "execution_count": 137,
     "metadata": {},
     "output_type": "execute_result"
    }
   ],
   "source": [
    "bmi.isnull().sum()"
   ]
  },
  {
   "cell_type": "code",
   "execution_count": 145,
   "id": "00f544a2-32e5-437d-a84f-00cb5587661b",
   "metadata": {},
   "outputs": [
    {
     "data": {
      "text/html": [
       "<div>\n",
       "<style scoped>\n",
       "    .dataframe tbody tr th:only-of-type {\n",
       "        vertical-align: middle;\n",
       "    }\n",
       "\n",
       "    .dataframe tbody tr th {\n",
       "        vertical-align: top;\n",
       "    }\n",
       "\n",
       "    .dataframe thead th {\n",
       "        text-align: right;\n",
       "    }\n",
       "</style>\n",
       "<table border=\"1\" class=\"dataframe\">\n",
       "  <thead>\n",
       "    <tr style=\"text-align: right;\">\n",
       "      <th></th>\n",
       "      <th>weight</th>\n",
       "      <th>height</th>\n",
       "      <th>BMI</th>\n",
       "    </tr>\n",
       "  </thead>\n",
       "  <tbody>\n",
       "    <tr>\n",
       "      <th>0</th>\n",
       "      <td>88.0</td>\n",
       "      <td>156.0</td>\n",
       "      <td>36.160421</td>\n",
       "    </tr>\n",
       "    <tr>\n",
       "      <th>1</th>\n",
       "      <td>67.0</td>\n",
       "      <td>165.0</td>\n",
       "      <td>24.609734</td>\n",
       "    </tr>\n",
       "    <tr>\n",
       "      <th>2</th>\n",
       "      <td>0.0</td>\n",
       "      <td>186.0</td>\n",
       "      <td>0.000000</td>\n",
       "    </tr>\n",
       "    <tr>\n",
       "      <th>3</th>\n",
       "      <td>78.0</td>\n",
       "      <td>NaN</td>\n",
       "      <td>NaN</td>\n",
       "    </tr>\n",
       "    <tr>\n",
       "      <th>4</th>\n",
       "      <td>46.0</td>\n",
       "      <td>176.0</td>\n",
       "      <td>14.850207</td>\n",
       "    </tr>\n",
       "    <tr>\n",
       "      <th>5</th>\n",
       "      <td>65.0</td>\n",
       "      <td>65.0</td>\n",
       "      <td>NaN</td>\n",
       "    </tr>\n",
       "  </tbody>\n",
       "</table>\n",
       "</div>"
      ],
      "text/plain": [
       "   weight  height        BMI\n",
       "0    88.0   156.0  36.160421\n",
       "1    67.0   165.0  24.609734\n",
       "2     0.0   186.0   0.000000\n",
       "3    78.0     NaN        NaN\n",
       "4    46.0   176.0  14.850207\n",
       "5    65.0    65.0        NaN"
      ]
     },
     "execution_count": 145,
     "metadata": {},
     "output_type": "execute_result"
    }
   ],
   "source": [
    "#Replace missing values with 65 value of that column\n",
    "bmi[\"weight\"]=bmi[\"weight\"].fillna(65)\n",
    "bmi"
   ]
  },
  {
   "cell_type": "code",
   "execution_count": 147,
   "id": "373ac811-3a59-436e-ad01-a0bf6cf0e6e1",
   "metadata": {},
   "outputs": [
    {
     "data": {
      "text/html": [
       "<div>\n",
       "<style scoped>\n",
       "    .dataframe tbody tr th:only-of-type {\n",
       "        vertical-align: middle;\n",
       "    }\n",
       "\n",
       "    .dataframe tbody tr th {\n",
       "        vertical-align: top;\n",
       "    }\n",
       "\n",
       "    .dataframe thead th {\n",
       "        text-align: right;\n",
       "    }\n",
       "</style>\n",
       "<table border=\"1\" class=\"dataframe\">\n",
       "  <thead>\n",
       "    <tr style=\"text-align: right;\">\n",
       "      <th></th>\n",
       "      <th>weight</th>\n",
       "      <th>height</th>\n",
       "      <th>BMI</th>\n",
       "    </tr>\n",
       "  </thead>\n",
       "  <tbody>\n",
       "    <tr>\n",
       "      <th>0</th>\n",
       "      <td>88.0</td>\n",
       "      <td>156.0</td>\n",
       "      <td>36.160421</td>\n",
       "    </tr>\n",
       "    <tr>\n",
       "      <th>1</th>\n",
       "      <td>67.0</td>\n",
       "      <td>165.0</td>\n",
       "      <td>24.609734</td>\n",
       "    </tr>\n",
       "    <tr>\n",
       "      <th>2</th>\n",
       "      <td>0.0</td>\n",
       "      <td>186.0</td>\n",
       "      <td>0.000000</td>\n",
       "    </tr>\n",
       "    <tr>\n",
       "      <th>3</th>\n",
       "      <td>78.0</td>\n",
       "      <td>175.0</td>\n",
       "      <td>NaN</td>\n",
       "    </tr>\n",
       "    <tr>\n",
       "      <th>4</th>\n",
       "      <td>46.0</td>\n",
       "      <td>176.0</td>\n",
       "      <td>14.850207</td>\n",
       "    </tr>\n",
       "    <tr>\n",
       "      <th>5</th>\n",
       "      <td>65.0</td>\n",
       "      <td>65.0</td>\n",
       "      <td>NaN</td>\n",
       "    </tr>\n",
       "  </tbody>\n",
       "</table>\n",
       "</div>"
      ],
      "text/plain": [
       "   weight  height        BMI\n",
       "0    88.0   156.0  36.160421\n",
       "1    67.0   165.0  24.609734\n",
       "2     0.0   186.0   0.000000\n",
       "3    78.0   175.0        NaN\n",
       "4    46.0   176.0  14.850207\n",
       "5    65.0    65.0        NaN"
      ]
     },
     "execution_count": 147,
     "metadata": {},
     "output_type": "execute_result"
    }
   ],
   "source": [
    "bmi[\"height\"]=bmi[\"height\"].fillna(175)\n",
    "bmi"
   ]
  },
  {
   "cell_type": "code",
   "execution_count": 153,
   "id": "e25e30ae-abba-4b87-a9c3-c1920be53e2d",
   "metadata": {},
   "outputs": [
    {
     "data": {
      "text/html": [
       "<div>\n",
       "<style scoped>\n",
       "    .dataframe tbody tr th:only-of-type {\n",
       "        vertical-align: middle;\n",
       "    }\n",
       "\n",
       "    .dataframe tbody tr th {\n",
       "        vertical-align: top;\n",
       "    }\n",
       "\n",
       "    .dataframe thead th {\n",
       "        text-align: right;\n",
       "    }\n",
       "</style>\n",
       "<table border=\"1\" class=\"dataframe\">\n",
       "  <thead>\n",
       "    <tr style=\"text-align: right;\">\n",
       "      <th></th>\n",
       "      <th>weight</th>\n",
       "      <th>height</th>\n",
       "      <th>BMI</th>\n",
       "      <th>BMI_new</th>\n",
       "    </tr>\n",
       "  </thead>\n",
       "  <tbody>\n",
       "    <tr>\n",
       "      <th>0</th>\n",
       "      <td>88.0</td>\n",
       "      <td>156.0</td>\n",
       "      <td>36.160421</td>\n",
       "      <td>36.160421</td>\n",
       "    </tr>\n",
       "    <tr>\n",
       "      <th>1</th>\n",
       "      <td>67.0</td>\n",
       "      <td>165.0</td>\n",
       "      <td>24.609734</td>\n",
       "      <td>24.609734</td>\n",
       "    </tr>\n",
       "    <tr>\n",
       "      <th>2</th>\n",
       "      <td>0.0</td>\n",
       "      <td>186.0</td>\n",
       "      <td>0.000000</td>\n",
       "      <td>0.000000</td>\n",
       "    </tr>\n",
       "    <tr>\n",
       "      <th>3</th>\n",
       "      <td>78.0</td>\n",
       "      <td>175.0</td>\n",
       "      <td>25.469388</td>\n",
       "      <td>25.469388</td>\n",
       "    </tr>\n",
       "    <tr>\n",
       "      <th>4</th>\n",
       "      <td>46.0</td>\n",
       "      <td>176.0</td>\n",
       "      <td>14.850207</td>\n",
       "      <td>14.850207</td>\n",
       "    </tr>\n",
       "    <tr>\n",
       "      <th>5</th>\n",
       "      <td>65.0</td>\n",
       "      <td>65.0</td>\n",
       "      <td>153.846154</td>\n",
       "      <td>153.846154</td>\n",
       "    </tr>\n",
       "  </tbody>\n",
       "</table>\n",
       "</div>"
      ],
      "text/plain": [
       "   weight  height         BMI     BMI_new\n",
       "0    88.0   156.0   36.160421   36.160421\n",
       "1    67.0   165.0   24.609734   24.609734\n",
       "2     0.0   186.0    0.000000    0.000000\n",
       "3    78.0   175.0   25.469388   25.469388\n",
       "4    46.0   176.0   14.850207   14.850207\n",
       "5    65.0    65.0  153.846154  153.846154"
      ]
     },
     "execution_count": 153,
     "metadata": {},
     "output_type": "execute_result"
    }
   ],
   "source": [
    "bmi[\"BMI_new\"] = bmi[\"weight\"]/(bmi[\"height\"]/100)**2\n",
    "bmi"
   ]
  },
  {
   "cell_type": "code",
   "execution_count": 155,
   "id": "ee14a3ba-5201-4280-8324-65c0cf36ceb9",
   "metadata": {},
   "outputs": [
    {
     "data": {
      "text/html": [
       "<div>\n",
       "<style scoped>\n",
       "    .dataframe tbody tr th:only-of-type {\n",
       "        vertical-align: middle;\n",
       "    }\n",
       "\n",
       "    .dataframe tbody tr th {\n",
       "        vertical-align: top;\n",
       "    }\n",
       "\n",
       "    .dataframe thead th {\n",
       "        text-align: right;\n",
       "    }\n",
       "</style>\n",
       "<table border=\"1\" class=\"dataframe\">\n",
       "  <thead>\n",
       "    <tr style=\"text-align: right;\">\n",
       "      <th></th>\n",
       "      <th>weight</th>\n",
       "      <th>height</th>\n",
       "      <th>BMI_new</th>\n",
       "    </tr>\n",
       "  </thead>\n",
       "  <tbody>\n",
       "    <tr>\n",
       "      <th>0</th>\n",
       "      <td>88.0</td>\n",
       "      <td>156.0</td>\n",
       "      <td>36.160421</td>\n",
       "    </tr>\n",
       "    <tr>\n",
       "      <th>1</th>\n",
       "      <td>67.0</td>\n",
       "      <td>165.0</td>\n",
       "      <td>24.609734</td>\n",
       "    </tr>\n",
       "    <tr>\n",
       "      <th>2</th>\n",
       "      <td>0.0</td>\n",
       "      <td>186.0</td>\n",
       "      <td>0.000000</td>\n",
       "    </tr>\n",
       "    <tr>\n",
       "      <th>3</th>\n",
       "      <td>78.0</td>\n",
       "      <td>175.0</td>\n",
       "      <td>25.469388</td>\n",
       "    </tr>\n",
       "    <tr>\n",
       "      <th>4</th>\n",
       "      <td>46.0</td>\n",
       "      <td>176.0</td>\n",
       "      <td>14.850207</td>\n",
       "    </tr>\n",
       "    <tr>\n",
       "      <th>5</th>\n",
       "      <td>65.0</td>\n",
       "      <td>65.0</td>\n",
       "      <td>153.846154</td>\n",
       "    </tr>\n",
       "  </tbody>\n",
       "</table>\n",
       "</div>"
      ],
      "text/plain": [
       "   weight  height     BMI_new\n",
       "0    88.0   156.0   36.160421\n",
       "1    67.0   165.0   24.609734\n",
       "2     0.0   186.0    0.000000\n",
       "3    78.0   175.0   25.469388\n",
       "4    46.0   176.0   14.850207\n",
       "5    65.0    65.0  153.846154"
      ]
     },
     "execution_count": 155,
     "metadata": {},
     "output_type": "execute_result"
    }
   ],
   "source": [
    "bmi.drop(\"BMI\",axis=1,inplace=True)\n",
    "bmi"
   ]
  },
  {
   "cell_type": "markdown",
   "id": "b0a05e8b-8d6d-4c69-9ca1-d3c213d43575",
   "metadata": {},
   "source": [
    "##Data visualization on iris dataset"
   ]
  },
  {
   "cell_type": "code",
   "execution_count": 160,
   "id": "a470a3a0-5d96-4b47-baca-96b5f7d3d112",
   "metadata": {},
   "outputs": [],
   "source": [
    "iris_df=pd.read_csv(\"iris.csv\")"
   ]
  },
  {
   "cell_type": "code",
   "execution_count": 164,
   "id": "5c586388-b6df-4241-9a64-59ea99ab383b",
   "metadata": {},
   "outputs": [
    {
     "data": {
      "text/plain": [
       "(array([ 9., 23., 14., 27., 16., 26., 18.,  6.,  5.,  6.]),\n",
       " array([4.3 , 4.66, 5.02, 5.38, 5.74, 6.1 , 6.46, 6.82, 7.18, 7.54, 7.9 ]),\n",
       " <BarContainer object of 10 artists>)"
      ]
     },
     "execution_count": 164,
     "metadata": {},
     "output_type": "execute_result"
    },
    {
     "data": {
      "image/png": "[encoded data removed]",
      "text/plain": [
       "<Figure size 640x480 with 1 Axes>"
      ]
     },
     "metadata": {},
     "output_type": "display_data"
    }
   ],
   "source": [
    "import matplotlib.pyplot as plt\n",
    "plt.hist(iris_df[\"sepal.length\"],color=\"blue\")"
   ]
  },
  {
   "cell_type": "code",
   "execution_count": 166,
   "id": "e46af173-efa5-46bd-ab43-9dd21d2da460",
   "metadata": {},
   "outputs": [
    {
     "data": {
      "text/plain": [
       "(array([ 9., 23., 14., 27., 16., 26., 18.,  6.,  5.,  6.]),\n",
       " array([4.3 , 4.66, 5.02, 5.38, 5.74, 6.1 , 6.46, 6.82, 7.18, 7.54, 7.9 ]),\n",
       " <BarContainer object of 10 artists>)"
      ]
     },
     "execution_count": 166,
     "metadata": {},
     "output_type": "execute_result"
    },
    {
     "data": {
      "image/png": "[encoded data removed]",
      "text/plain": [
       "<Figure size 640x480 with 1 Axes>"
      ]
     },
     "metadata": {},
     "output_type": "display_data"
    }
   ],
   "source": [
    "import matplotlib.pyplot as plt\n",
    "plt.hist(iris_df[\"sepal.length\"],color=\"black\")"
   ]
  },
  {
   "cell_type": "code",
   "execution_count": null,
   "id": "cc8e29e5-074d-4691-8d68-dc58409d30b8",
   "metadata": {},
   "outputs": [],
   "source": []
  }
 ],
 "metadata": {
  "kernelspec": {
   "display_name": "Python [conda env:base] *",
   "language": "python",
   "name": "conda-base-py"
  },
  "language_info": {
   "codemirror_mode": {
    "name": "ipython",
    "version": 3
   },
   "file_extension": ".py",
   "mimetype": "text/x-python",
   "name": "python",
   "nbconvert_exporter": "python",
   "pygments_lexer": "ipython3",
   "version": "3.12.7"
  }
 },
 "nbformat": 4,
 "nbformat_minor": 5
}
